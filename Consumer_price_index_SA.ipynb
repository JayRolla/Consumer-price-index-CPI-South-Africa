{
  "nbformat": 4,
  "nbformat_minor": 0,
  "metadata": {
    "colab": {
      "provenance": [],
      "authorship_tag": "ABX9TyMQhjz75hwuzDYDBOzxrxtb",
      "include_colab_link": true
    },
    "kernelspec": {
      "name": "python3",
      "display_name": "Python 3"
    },
    "language_info": {
      "name": "python"
    }
  },
  "cells": [
    {
      "cell_type": "markdown",
      "metadata": {
        "id": "view-in-github",
        "colab_type": "text"
      },
      "source": [
        "<a href=\"https://colab.research.google.com/github/JayRolla/Consumer-price-index-CPI-South-Africa/blob/main/Consumer_price_index_SA.ipynb\" target=\"_parent\"><img src=\"https://colab.research.google.com/assets/colab-badge.svg\" alt=\"Open In Colab\"/></a>"
      ]
    },
    {
      "cell_type": "code",
      "execution_count": 2,
      "metadata": {
        "id": "oF1AJZvLVEF_"
      },
      "outputs": [],
      "source": [
        "import pandas as pd\n",
        "import numpy as np"
      ]
    },
    {
      "cell_type": "code",
      "source": [
        "#consumer price indices\n",
        "df_cp = pd.read_csv(\"https://raw.githubusercontent.com/JayRolla/Consumer-price-index-CPI-South-Africa/main/cpi%20data/consumer-price-indices_zaf.csv\")\n",
        "#deflators\n",
        "df_d = pd.read_csv(\"https://raw.githubusercontent.com/JayRolla/Consumer-price-index-CPI-South-Africa/main/cpi%20data/deflators_zaf.csv\")\n",
        "#exchange rate\n",
        "dfer_ = pd.read_csv(\"https://raw.githubusercontent.com/JayRolla/Consumer-price-index-CPI-South-Africa/main/cpi%20data/exchange-rates_zaf.csv\")\n",
        "#producer prices\n",
        "df_pp = pd.read_csv(\"https://raw.githubusercontent.com/JayRolla/Consumer-price-index-CPI-South-Africa/main/cpi%20data/producer-prices_zaf.csv\")\n",
        "\n"
      ],
      "metadata": {
        "id": "ziuyD4_YVNMZ"
      },
      "execution_count": 3,
      "outputs": []
    }
  ]
}